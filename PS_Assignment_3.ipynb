{
  "nbformat": 4,
  "nbformat_minor": 0,
  "metadata": {
    "colab": {
      "provenance": [],
      "authorship_tag": "ABX9TyMMlGSZfrxPh4e2ZXX3BFda",
      "include_colab_link": true
    },
    "kernelspec": {
      "name": "python3",
      "display_name": "Python 3"
    },
    "language_info": {
      "name": "python"
    }
  },
  "cells": [
    {
      "cell_type": "markdown",
      "metadata": {
        "id": "view-in-github",
        "colab_type": "text"
      },
      "source": [
        "<a href=\"https://colab.research.google.com/github/abhinay-2006/Probability_2025/blob/main/PS_Assignment_3.ipynb\" target=\"_parent\"><img src=\"https://colab.research.google.com/assets/colab-badge.svg\" alt=\"Open In Colab\"/></a>"
      ]
    },
    {
      "cell_type": "code",
      "execution_count": null,
      "metadata": {
        "colab": {
          "base_uri": "https://localhost:8080/"
        },
        "id": "OwEKReFhSVso",
        "outputId": "d3018487-f937-4eaa-8948-209911812a74"
      },
      "outputs": [
        {
          "output_type": "stream",
          "name": "stdout",
          "text": [
            "Median (Ungrouped Data): 45.0\n",
            "Mode (Ungrouped Data) using numpy: 45\n",
            "Mode (Ungrouped Data) using pandas: 45\n"
          ]
        }
      ],
      "source": [
        "import numpy as np\n",
        "import pandas as pd\n",
        "data_ungrouped = [12, 45, 67, 23, 45, 89, 45, 12, 33, 67, 67, 78, 45, 23, 23, 56, 89, 45, 33, 45]\n",
        "median_ungrouped = np.median(data_ungrouped)\n",
        "mode_ungrouped = np.argmax(np.bincount(data_ungrouped))\n",
        "mode_ungrouped_pandas = pd.Series(data_ungrouped).mode().values[0]\n",
        "print(f\"Median (Ungrouped Data): {median_ungrouped}\")\n",
        "print(f\"Mode (Ungrouped Data) using numpy: {mode_ungrouped}\")\n",
        "print(f\"Mode (Ungrouped Data) using pandas: {mode_ungrouped_pandas}\")\n"
      ]
    },
    {
      "cell_type": "code",
      "source": [
        "scores = [10, 20, 30, 40, 50]\n",
        "frequencies = [5, 8, 12, 15, 7]\n",
        "median_grouped = np.median(np.repeat(scores, frequencies))\n",
        "mode_grouped = scores[np.argmax(frequencies)]\n",
        "mode_grouped_pandas = pd.Series(np.repeat(scores, frequencies)).mode().values[0]\n",
        "print(f\"Median (Grouped Data) using numpy: {median_grouped}\")\n",
        "print(f\"Mode (Grouped Data) using numpy: {mode_grouped}\")\n",
        "print(f\"Mode (Grouped Data) using pandas: {mode_grouped_pandas}\")\n"
      ],
      "metadata": {
        "colab": {
          "base_uri": "https://localhost:8080/"
        },
        "id": "vw3gRjWtTQpb",
        "outputId": "5205bde0-99ed-47cd-a81a-c3b4cdbec0ce"
      },
      "execution_count": null,
      "outputs": [
        {
          "output_type": "stream",
          "name": "stdout",
          "text": [
            "Median (Grouped Data) using numpy: 30.0\n",
            "Mode (Grouped Data) using numpy: 40\n",
            "Mode (Grouped Data) using pandas: 40\n"
          ]
        }
      ]
    },
    {
      "cell_type": "code",
      "source": [
        "class_intervals = [(0, 10), (10, 20), (20, 30), (30, 40), (40, 50)]\n",
        "frequency_class_intervals = [4, 6, 10, 8, 2]\n",
        "midpoints = [(low + high) / 2 for low, high in class_intervals]\n",
        "cumulative_frequencies = np.cumsum(frequency_class_intervals)\n",
        "total_freq = sum(frequency_class_intervals)\n",
        "median_class = next(i for i, c in enumerate(cumulative_frequencies) if c >= total_freq / 2)\n",
        "L = midpoints[median_class]\n",
        "F = cumulative_frequencies[median_class - 1] if median_class > 0 else 0\n",
        "f = frequency_class_intervals[median_class]\n",
        "h = class_intervals[median_class][1] - class_intervals[median_class][0]\n",
        "median_grouped_approx = L + ((total_freq / 2 - F) / f) * h\n",
        "f0, f1, f2 = frequency_class_intervals[median_class - 1] if median_class > 0 else 0, frequency_class_intervals[median_class], frequency_class_intervals[median_class + 1] if median_class < len(frequency_class_intervals) - 1 else 0\n",
        "L_mode = midpoints[median_class]\n",
        "mode_class = next(i for i, c in enumerate(frequency_class_intervals) if c == max(frequency_class_intervals))\n",
        "mode_grouped_approx = L_mode + ((f1 - f0) / (2 * f1 - f0 - f2)) * h\n",
        "print(f\"Median (Grouped Data with Class Intervals) using formula: {median_grouped_approx}\")\n",
        "print(f\"Mode (Grouped Data with Class Intervals) using formula: {mode_grouped_approx}\")\n"
      ],
      "metadata": {
        "colab": {
          "base_uri": "https://localhost:8080/"
        },
        "id": "TCw022gYTd9y",
        "outputId": "96c0a4e4-21bd-42f8-bec6-3e350a67e4c5"
      },
      "execution_count": null,
      "outputs": [
        {
          "output_type": "stream",
          "name": "stdout",
          "text": [
            "Median (Grouped Data with Class Intervals) using formula: 30.0\n",
            "Mode (Grouped Data with Class Intervals) using formula: 31.666666666666664\n"
          ]
        }
      ]
    }
  ]
}