{
  "nbformat": 4,
  "nbformat_minor": 0,
  "metadata": {
    "colab": {
      "provenance": [],
      "authorship_tag": "ABX9TyM2QwqTbZOVrh+WadBUh8Ee",
      "include_colab_link": true
    },
    "kernelspec": {
      "name": "python3",
      "display_name": "Python 3"
    },
    "language_info": {
      "name": "python"
    }
  },
  "cells": [
    {
      "cell_type": "markdown",
      "metadata": {
        "id": "view-in-github",
        "colab_type": "text"
      },
      "source": [
        "<a href=\"https://colab.research.google.com/github/abhinay-2006/Probability_2025/blob/main/PS_Assignment_7.ipynb\" target=\"_parent\"><img src=\"https://colab.research.google.com/assets/colab-badge.svg\" alt=\"Open In Colab\"/></a>"
      ]
    },
    {
      "cell_type": "code",
      "execution_count": 9,
      "metadata": {
        "colab": {
          "base_uri": "https://localhost:8080/"
        },
        "id": "Zc9SwVtj3Mh0",
        "outputId": "8e8bb42d-1630-4c62-bbb4-ecb66756ef9f"
      },
      "outputs": [
        {
          "output_type": "stream",
          "name": "stdout",
          "text": [
            "Sample Mean: 27466.67\n",
            "Sample Standard Deviation: 3748.65\n"
          ]
        }
      ],
      "source": [
        "sample_data = [25000, 31000, 20000, 28000, 29500, 32000, 21000, 30500, 27000, 28500, 30000, 23000, 31000, 26000, 29500]\n",
        "sample_mean = np.mean(sample_data)\n",
        "sample_std = np.std(sample_data, ddof=1)\n",
        "print(f\"Sample Mean: {sample_mean:.2f}\")\n",
        "print(f\"Sample Standard Deviation: {sample_std:.2f}\")"
      ]
    },
    {
      "cell_type": "code",
      "source": [
        "sample_data = [25000, 31000, 20000, 28000, 29500, 32000, 21000, 30500, 27000, 28500, 30000, 23000, 31000, 26000, 29500]\n",
        "n, mean, std = len(sample_data), np.mean(sample_data), np.std(sample_data, ddof=1)\n",
        "margin = stats.t.ppf(0.975, df=n-1) * (std / np.sqrt(n))\n",
        "print(f\"95% Confidence Interval: ({mean - margin:.2f}, {mean + margin:.2f})\")"
      ],
      "metadata": {
        "colab": {
          "base_uri": "https://localhost:8080/"
        },
        "id": "1Mb8UMa250jO",
        "outputId": "83b9028f-0d27-421a-a1a6-51f0c065af75"
      },
      "execution_count": 13,
      "outputs": [
        {
          "output_type": "stream",
          "name": "stdout",
          "text": [
            "95% Confidence Interval: (25390.73, 29542.60)\n"
          ]
        }
      ]
    },
    {
      "cell_type": "code",
      "source": [
        "t_critical = stats.t.ppf(0.975, df=n-1)\n",
        "margin_of_error = t_critical * (sample_std / np.sqrt(n))\n",
        "confidence_interval = (sample_mean - margin_of_error, sample_mean + margin_of_error)\n",
        "reject_null = claimed_mean < confidence_interval[0] or claimed_mean > confidence_interval[1]\n",
        "print(f\"Reject Null Hypothesis: {'Yes' if reject_null else 'No'}\")"
      ],
      "metadata": {
        "colab": {
          "base_uri": "https://localhost:8080/"
        },
        "id": "Ybt_KNdm6brv",
        "outputId": "bd8f5f00-d911-44de-c4b6-fb22ff56a83b"
      },
      "execution_count": 21,
      "outputs": [
        {
          "output_type": "stream",
          "name": "stdout",
          "text": [
            "Reject Null Hypothesis: Yes\n"
          ]
        }
      ]
    }
  ]
}