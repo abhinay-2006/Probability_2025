{
  "nbformat": 4,
  "nbformat_minor": 0,
  "metadata": {
    "colab": {
      "provenance": [],
      "authorship_tag": "ABX9TyOfuyVxap/XnTK93i/BKsfg",
      "include_colab_link": true
    },
    "kernelspec": {
      "name": "python3",
      "display_name": "Python 3"
    },
    "language_info": {
      "name": "python"
    }
  },
  "cells": [
    {
      "cell_type": "markdown",
      "metadata": {
        "id": "view-in-github",
        "colab_type": "text"
      },
      "source": [
        "<a href=\"https://colab.research.google.com/github/abhinay-2006/Probability_2025/blob/main/PS_Assignment_9.ipynb\" target=\"_parent\"><img src=\"https://colab.research.google.com/assets/colab-badge.svg\" alt=\"Open In Colab\"/></a>"
      ]
    },
    {
      "cell_type": "code",
      "source": [
        "import scipy.stats as stats\n",
        "\n",
        "# Data for Water Intake\n",
        "group_A_water = [2.8, 3.1, 3.0, 2.5, 3.2, 3.0, 3.3, 2.7, 2.9, 3.0]\n",
        "group_B_water = [1.5, 1.7, 1.6, 1.9, 2.0, 1.8, 1.7, 1.6, 1.8, 1.5]\n",
        "t_stat_water, p_value_water = stats.ttest_ind(group_A_water, group_B_water, equal_var=False)\n",
        "print(f\"Water Intake - t-statistic: {t_stat_water:.4f}, p-value: {p_value_water:.10f}\")\n",
        "\n",
        "# Data for Exercise Hours\n",
        "group_A_exercise = [7, 8, 6, 9, 10, 8, 7, 6, 8, 9]\n",
        "group_B_exercise = [3, 4, 2, 3, 5, 4, 3, 2, 4, 3]\n",
        "t_stat_exercise, p_value_exercise = stats.ttest_ind(group_A_exercise, group_B_exercise, equal_var=False)\n",
        "print(f\"Exercise Hours - t-statistic: {t_stat_exercise:.4f}, p-value: {p_value_exercise:.10f}\")\n",
        "\n",
        "# Data for Reading Hours\n",
        "group_X_reading = [4, 5, 6, 3, 5, 6, 4, 5, 7, 6]\n",
        "group_Y_reading = [1, 2, 3, 2, 1, 4, 2, 1, 3, 2]\n",
        "t_stat_reading, p_value_reading = stats.ttest_ind(group_X_reading, group_Y_reading, equal_var=False)\n",
        "print(f\"Reading Hours - t-statistic: {t_stat_reading:.4f}, p-value: {p_value_reading:.10f}\")\n"
      ],
      "metadata": {
        "colab": {
          "base_uri": "https://localhost:8080/"
        },
        "id": "CGWduSEs1Jan",
        "outputId": "c5ac14f5-7483-4728-ea01-a305a0de7a3a"
      },
      "execution_count": null,
      "outputs": [
        {
          "output_type": "stream",
          "name": "stdout",
          "text": [
            "Water Intake - t-statistic: 13.5474, p-value: 0.0000000003\n",
            "Exercise Hours - t-statistic: 8.7692, p-value: 0.0000001386\n",
            "Reading Hours - t-statistic: 6.0956, p-value: 0.0000107060\n"
          ]
        }
      ]
    }
  ]
}