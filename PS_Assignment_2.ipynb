{
  "nbformat": 4,
  "nbformat_minor": 0,
  "metadata": {
    "colab": {
      "provenance": [],
      "authorship_tag": "ABX9TyPU3K89Ic354feZ3ULH3cZK",
      "include_colab_link": true
    },
    "kernelspec": {
      "name": "python3",
      "display_name": "Python 3"
    },
    "language_info": {
      "name": "python"
    }
  },
  "cells": [
    {
      "cell_type": "markdown",
      "metadata": {
        "id": "view-in-github",
        "colab_type": "text"
      },
      "source": [
        "<a href=\"https://colab.research.google.com/github/abhinay-2006/Probability_2025/blob/main/PS_Assignment_2.ipynb\" target=\"_parent\"><img src=\"https://colab.research.google.com/assets/colab-badge.svg\" alt=\"Open In Colab\"/></a>"
      ]
    },
    {
      "cell_type": "code",
      "execution_count": null,
      "metadata": {
        "colab": {
          "base_uri": "https://localhost:8080/"
        },
        "id": "X22_qI1BWdLD",
        "outputId": "ffca9147-4163-4065-f2c0-64edc0f25fdd"
      },
      "outputs": [
        {
          "output_type": "stream",
          "name": "stdout",
          "text": [
            "mean: 13.46\n",
            "mean: 33.11\n",
            "variance: 34.36\n"
          ]
        }
      ],
      "source": [
        "age = [10,12,15,11,13,21]\n",
        "freq = [1,4,7,9,4,3]\n",
        "fixi = sum(age[i]*freq[i] for i in range(len(age)))\n",
        "fi = sum(freq)\n",
        "x = fixi/fi\n",
        "print(f\"mean: {x:.2f}\")\n",
        "class_interval = [(0,10), (10,20), (20,30), (30,40), (40,50), (50,60)]\n",
        "freq = [1, 8, 7, 8, 7, 6]\n",
        "midpoints = [(start + end)/2 for start, end in class_interval]\n",
        "fixi = sum(midpoints[i]*freq[i] for i in range(len(midpoints)))\n",
        "fi = sum(freq)\n",
        "x = fixi/fi\n",
        "print(f\"mean: {x:.2f}\")\n",
        "data = [13,22,25,25,14,23,31,16]\n",
        "n = len(data)\n",
        "mean = sum(data)/n\n",
        "variance = sum((x - mean)**2 for x in data)/n\n",
        "print(f\"variance: {variance:.2f}\")"
      ]
    }
  ]
}